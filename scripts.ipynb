{
 "cells": [
  {
   "cell_type": "markdown",
   "id": "45372656",
   "metadata": {},
   "source": [
    "1. Instalasi Packages"
   ]
  },
  {
   "cell_type": "code",
   "execution_count": null,
   "id": "73a17f6a",
   "metadata": {},
   "outputs": [],
   "source": [
    "# ===============================================\n",
    "# 1. INSTALASI PACKAGES\n",
    "# ===============================================\n",
    "\n",
    "# Install required packages\n",
    "%pip install nltk PySastrawi requests beautifulsoup4 textblob wordcloud matplotlib seaborn scipy pandas numpy\n",
    "\n",
    "print(\"✅ Packages berhasil diinstall!\")"
   ]
  },
  {
   "cell_type": "markdown",
   "id": "9f9a24ac",
   "metadata": {},
   "source": [
    "2. Import Libraries dan Konfigurasi Awal"
   ]
  },
  {
   "cell_type": "code",
   "execution_count": null,
   "id": "a1febbe0",
   "metadata": {},
   "outputs": [],
   "source": [
    "# ===============================================\n",
    "# 2. IMPORT LIBRARIES DAN KONFIGURASI AWAL\n",
    "# ===============================================\n",
    "\n",
    "# Manipulasi & Analisis Data\n",
    "import pandas as pd\n",
    "import numpy as np\n",
    "import re\n",
    "from collections import Counter\n",
    "import warnings\n",
    "\n",
    "# Visualisasi\n",
    "import matplotlib.pyplot as plt\n",
    "import seaborn as sns\n",
    "from wordcloud import WordCloud\n",
    "\n",
    "# Pemrosesan Teks (NLP)\n",
    "import nltk\n",
    "from nltk.tokenize import word_tokenize\n",
    "from nltk.corpus import stopwords\n",
    "from nltk.stem import PorterStemmer\n",
    "\n",
    "# Mengunduh data NLTK yang diperlukan\n",
    "nltk.download('punkt')\n",
    "nltk.download('stopwords')\n",
    "\n",
    "# Pengaturan Peringatan dan Tampilan Plot\n",
    "warnings.filterwarnings('ignore')\n",
    "plt.style.use('seaborn-v0_8')\n",
    "sns.set_palette(\"husl\")\n",
    "plt.rcParams['figure.figsize'] = (12, 8)\n",
    "\n",
    "print(\"✅ Semua library berhasil diimport dan dikonfigurasi!\")"
   ]
  },
  {
   "cell_type": "markdown",
   "id": "e71778dd",
   "metadata": {},
   "source": [
    "3. Pemuatan Data"
   ]
  },
  {
   "cell_type": "code",
   "execution_count": null,
   "id": "71d60685",
   "metadata": {},
   "outputs": [],
   "source": [
    "# ===============================================\n",
    "# 3. PEMUATAN DATA\n",
    "# ===============================================\n",
    "\n",
    "# Data review redBus\n",
    "redbus_reviews = [\n",
    "    {\"review\": \"Our first trip was very good...\", \"rating\": 3, \"sentiment\": \"mixed\"},\n",
    "    {\"review\": \"I had a medical emergency so not able to travel...\", \"rating\": 1, \"sentiment\": \"negative\"},\n",
    "    {\"review\": \"very bad algorithm, I went upto the payment...\", \"rating\": 1, \"sentiment\": \"negative\"},\n",
    "    {\"review\": \"Excellent app! Easy to use, great interface...\", \"rating\": 5, \"sentiment\": \"positive\"},\n",
    "    {\"review\": \"Good app overall but sometimes the bus tracking...\", \"rating\": 4, \"sentiment\": \"positive\"}\n",
    "]\n",
    "\n",
    "# Konversi ke DataFrame\n",
    "df = pd.DataFrame(redbus_reviews)\n",
    "\n",
    "print(\"✅ Data berhasil dimuat!\")\n",
    "print(df.head())"
   ]
  },
  {
   "cell_type": "markdown",
   "id": "96a20f99",
   "metadata": {},
   "source": [
    "4. EDA pada Data Mentah"
   ]
  },
  {
   "cell_type": "code",
   "execution_count": null,
   "id": "e2c6e13a",
   "metadata": {},
   "outputs": [],
   "source": [
    "# ===============================================\n",
    "# 4. EDA PADA DATA MENTAH\n",
    "# ===============================================\n",
    "\n",
    "print(\"=== Melakukan EDA pada Raw Dataset ===\\n\")\n",
    "\n",
    "# Menambahkan fitur dasar dari data mentah\n",
    "df['review_length'] = df['review'].str.len()\n",
    "df['word_count'] = df['review'].apply(lambda x: len(x.split()))\n",
    "\n",
    "# 1. Informasi dan Statistik Deskriptif\n",
    "print(\"1. INFORMASI DASAR DATASET\")\n",
    "print(\"=\" * 50)\n",
    "df.info()\n",
    "print(\"\\nSTATISTIK DESKRIPTIF:\")\n",
    "print(df.describe())\n",
    "\n",
    "# 2. Analisis Kualitas Data\n",
    "print(\"\\n2. ANALISIS KUALITAS DATA\")\n",
    "print(\"=\" * 50)\n",
    "print(f\"Jumlah Missing Values: {df.isnull().sum().sum()}\")\n",
    "print(f\"Jumlah Baris Duplikat: {df.duplicated().sum()}\")\n",
    "\n",
    "# 3. Visualisasi Distribusi\n",
    "fig, axes = plt.subplots(1, 2, figsize=(16, 6))\n",
    "fig.suptitle('Distribusi pada Data Mentah', fontsize=16, fontweight='bold')\n",
    "\n",
    "# Distribusi Rating\n",
    "sns.countplot(ax=axes[0], data=df, x='rating', palette='viridis')\n",
    "axes[0].set_title('Distribusi Rating', fontweight='bold')\n",
    "\n",
    "# Distribusi Panjang Review\n",
    "sns.histplot(ax=axes[1], data=df, x='review_length', bins=15, kde=True)\n",
    "axes[1].set_title('Distribusi Panjang Review (Karakter)', fontweight='bold')\n",
    "\n",
    "plt.tight_layout(rect=[0, 0.03, 1, 0.95])\n",
    "plt.show()"
   ]
  },
  {
   "cell_type": "markdown",
   "id": "4a32b2f3",
   "metadata": {},
   "source": [
    "5. Data Preprocessing"
   ]
  },
  {
   "cell_type": "code",
   "execution_count": null,
   "id": "96a9edd1",
   "metadata": {},
   "outputs": [],
   "source": [
    "# ===============================================\n",
    "# 5. DATA PREPROCESSING\n",
    "# ===============================================\n",
    "print(\"=== Memulai Proses Pembersihan Teks ===\\n\")\n",
    "\n",
    "# 1. Case Folding (Mengubah ke Lowercase)\n",
    "df['clean_review'] = df['review'].str.lower()\n",
    "print(\"1. Teks setelah diubah ke lowercase:\")\n",
    "print(df[['review', 'clean_review']].head())\n",
    "\n",
    "# 2. Menghilangkan Tanda Baca\n",
    "df['clean_review'] = df['clean_review'].apply(lambda x: re.sub(r'[^a-zA-Z0-9\\s]', '', x))\n",
    "print(\"\\n2. Teks setelah dihilangkan tanda baca:\")\n",
    "print(df['clean_review'].head())\n",
    "\n",
    "# 3. Tokenisasi\n",
    "df['tokens'] = df['clean_review'].apply(lambda x: word_tokenize(x))\n",
    "print(\"\\n3. Teks setelah tokenisasi:\")\n",
    "print(df['tokens'].head())\n",
    "\n",
    "# 4. Menghilangkan Stopwords (dengan kolom perbandingan)\n",
    "stop_words = set(stopwords.words('english'))\n",
    "df['tokens_before_stopwords'] = df['tokens']\n",
    "df['tokens_after_stopwords'] = df['tokens'].apply(lambda tokens: [word for word in tokens if word not in stop_words])\n",
    "print(\"\\n4. Perbandingan Sebelum dan Sesudah Menghilangkan Stopwords:\")\n",
    "print(df[['tokens_before_stopwords', 'tokens_after_stopwords']].head())\n",
    "\n",
    "# 5. Stemming (Mencari Kata Dasar)\n",
    "stemmer = PorterStemmer()\n",
    "df['tokens_stemmed'] = df['tokens_after_stopwords'].apply(lambda tokens: [stemmer.stem(word) for word in tokens])\n",
    "print(\"\\n5. Teks setelah proses stemming (hasil akhir):\")\n",
    "print(df['tokens_stemmed'].head())\n",
    "\n",
    "print(\"\\n✅ Proses preprocessing selesai!\")"
   ]
  },
  {
   "cell_type": "markdown",
   "id": "246098fd",
   "metadata": {},
   "source": [
    "6. EDA pada Data Bersih"
   ]
  },
  {
   "cell_type": "code",
   "execution_count": null,
   "id": "3e800bad",
   "metadata": {},
   "outputs": [],
   "source": [
    "# ===============================================\n",
    "# 6. EDA PADA DATA BERSIH\n",
    "# ===============================================\n",
    "print(\"=== Melakukan EDA pada Data yang Sudah Dibersihkan ===\\n\")\n",
    "\n",
    "# 1. Analisis Frekuensi 100 Kata Teratas\n",
    "all_tokens = [token for sublist in df['tokens_stemmed'] for token in sublist]\n",
    "word_freq = Counter(all_tokens)\n",
    "top_100_words = word_freq.most_common(100)\n",
    "df_top_words = pd.DataFrame(top_100_words, columns=['Kata', 'Frekuensi'])\n",
    "\n",
    "print(\"Top 100 Kata Paling Sering Muncul:\")\n",
    "print(df_top_words)\n",
    "\n",
    "# 2. Visualisasi Kata Paling Umum\n",
    "plt.figure(figsize=(12, 8))\n",
    "sns.barplot(data=df_top_words.head(20), x='Frekuensi', y='Kata', palette='mako')\n",
    "plt.title('20 Kata Paling Sering Muncul Setelah Preprocessing', fontweight='bold')\n",
    "plt.show()\n",
    "\n",
    "# 3. Word Cloud dari Data Bersih\n",
    "cleaned_text = \" \".join(all_tokens)\n",
    "wordcloud = WordCloud(width=800, height=400, background_color='white', colormap='viridis').generate(cleaned_text)\n",
    "\n",
    "plt.figure(figsize=(10, 8))\n",
    "plt.imshow(wordcloud, interpolation='bilinear')\n",
    "plt.axis('off')\n",
    "plt.title('Word Cloud dari Data Bersih', fontweight='bold')\n",
    "plt.show()"
   ]
  },
  {
   "cell_type": "markdown",
   "id": "e2091a4d",
   "metadata": {},
   "source": [
    "7. Analisis Statistik Deskriptif"
   ]
  },
  {
   "cell_type": "code",
   "execution_count": null,
   "id": "bda0bffe",
   "metadata": {},
   "outputs": [],
   "source": [
    "# ===============================================\n",
    "# 7. ANALISIS STATISTIK DESKRIPTIF\n",
    "# ===============================================\n",
    "\n",
    "print(\"=== ANALISIS STATISTIK DESKRIPTIF ===\\n\")\n",
    "\n",
    "# Informasi dasar dataset\n",
    "print(\"1. INFORMASI DASAR DATASET\")\n",
    "print(\"=\" * 50)\n",
    "df.info()\n",
    "\n",
    "# Statistik deskriptif untuk kolom numerik\n",
    "print(\"\\n2. STATISTIK DESKRIPTIF NUMERIK\")\n",
    "print(\"=\" * 50)\n",
    "print(df.describe())\n",
    "\n",
    "# Distribusi rating\n",
    "print(\"\\n3. ANALISIS DISTRIBUSI RATING\")\n",
    "print(\"=\" * 50)\n",
    "print(df['rating'].value_counts().sort_index())\n",
    "\n",
    "# Distribusi sentimen\n",
    "print(\"\\n4. ANALISIS DISTRIBUSI SENTIMEN\")\n",
    "print(\"=\" * 50)\n",
    "print(df['sentiment'].value_counts())"
   ]
  },
  {
   "cell_type": "markdown",
   "id": "004d7995",
   "metadata": {},
   "source": [
    "8. Analisis Kualitas Data"
   ]
  },
  {
   "cell_type": "code",
   "execution_count": null,
   "id": "7a92eaff",
   "metadata": {},
   "outputs": [],
   "source": [
    "# ===============================================\n",
    "# 8. ANALISIS KUALITAS DATA\n",
    "# ===============================================\n",
    "\n",
    "print(\"=== ANALISIS KUALITAS DATA ===\\n\")\n",
    "\n",
    "# 1. Analisis Missing Values\n",
    "print(\"1. ANALISIS MISSING VALUES\")\n",
    "print(\"=\" * 50)\n",
    "print(df.isnull().sum())\n",
    "\n",
    "# 2. Analisis Data Duplikat\n",
    "print(\"\\n2. ANALISIS DATA DUPLIKAT\")\n",
    "print(\"=\" * 50)\n",
    "print(f\"Jumlah baris duplikat: {df.duplicated().sum()}\")\n",
    "\n",
    "# 3. Analisis Konsistensi Rating vs Sentimen\n",
    "print(\"\\n3. ANALISIS KONSISTENSI DATA\")\n",
    "print(\"=\" * 50)\n",
    "inconsistencies = df[((df['rating'] >= 4) & (df['sentiment'] == 'negative')) | ((df['rating'] <= 2) & (df['sentiment'] == 'positive'))]\n",
    "print(f\"Ditemukan {len(inconsistencies)} inkonsistensi antara rating dan sentimen.\")"
   ]
  },
  {
   "cell_type": "markdown",
   "id": "abbe0c75",
   "metadata": {},
   "source": [
    "9. Visualisasi Data Eksploratif (EDA)"
   ]
  },
  {
   "cell_type": "code",
   "execution_count": null,
   "id": "6b1b9e87",
   "metadata": {},
   "outputs": [],
   "source": [
    "# ===============================================\n",
    "# 9. VISUALISASI DATA EKSPLORATIF (EDA)\n",
    "# ===============================================\n",
    "\n",
    "print(\"=== VISUALISASI DATA ===\\n\")\n",
    "\n",
    "fig, axes = plt.subplots(2, 2, figsize=(16, 12))\n",
    "fig.suptitle('Analisis Eksploratif Review redBus', fontsize=16, fontweight='bold')\n",
    "\n",
    "# 1. Distribusi Rating (Bar Chart)\n",
    "sns.countplot(ax=axes[0, 0], data=df, x='rating', palette='husl')\n",
    "axes[0, 0].set_title('Distribusi Rating', fontweight='bold')\n",
    "\n",
    "# 2. Distribusi Sentimen (Pie Chart)\n",
    "sentiment_counts = df['sentiment'].value_counts()\n",
    "axes[0, 1].pie(sentiment_counts, labels=sentiment_counts.index, autopct='%1.1f%%', startangle=90, colors=['#ff6b6b', '#4ecdc4', '#45b7d1'])\n",
    "axes[0, 1].set_title('Distribusi Sentimen', fontweight='bold')\n",
    "\n",
    "# 3. Distribusi Panjang Review (Histogram)\n",
    "sns.histplot(ax=axes[1, 0], data=df, x='review_length', bins=15, kde=True)\n",
    "axes[1, 0].set_title('Distribusi Panjang Review (Karakter)', fontweight='bold')\n",
    "\n",
    "# 4. Box Plot Rating vs Panjang Review\n",
    "sns.boxplot(ax=axes[1, 1], data=df, x='rating', y='review_length')\n",
    "axes[1, 1].set_title('Rating vs Panjang Review', fontweight='bold')\n",
    "\n",
    "plt.tight_layout(rect=[0, 0.03, 1, 0.95])\n",
    "plt.show()"
   ]
  },
  {
   "cell_type": "markdown",
   "id": "92c2cfd1",
   "metadata": {},
   "source": [
    "10. Analisis Korelasi"
   ]
  },
  {
   "cell_type": "code",
   "execution_count": null,
   "id": "8b754336",
   "metadata": {},
   "outputs": [],
   "source": [
    "# ===============================================\n",
    "# 10. ANALISIS KORELASI\n",
    "# ===============================================\n",
    "\n",
    "plt.figure(figsize=(10, 7))\n",
    "correlation_matrix = df[['rating', 'review_length', 'word_count', 'sentence_count', 'sentiment_numeric']].corr()\n",
    "sns.heatmap(correlation_matrix, annot=True, cmap='coolwarm', center=0, square=True)\n",
    "plt.title('Heatmap Korelasi', fontweight='bold')\n",
    "plt.show()"
   ]
  },
  {
   "cell_type": "markdown",
   "id": "d1d49990",
   "metadata": {},
   "source": [
    "11. Analisis Teks dengan Word Count"
   ]
  },
  {
   "cell_type": "code",
   "execution_count": null,
   "id": "1dbfe336",
   "metadata": {},
   "outputs": [],
   "source": [
    "# ===============================================\n",
    "# 11. ANALISIS TEKS DENGAN WORD CLOUD\n",
    "# ===============================================\n",
    "\n",
    "print(\"=== WORD CLOUD ANALYSIS ===\\n\")\n",
    "\n",
    "# Menggabungkan semua teks review\n",
    "all_text = ' '.join(df['review'])\n",
    "positive_text = ' '.join(df[df['sentiment'] == 'positive']['review'])\n",
    "negative_text = ' '.join(df[df['sentiment'] == 'negative']['review'])\n",
    "\n",
    "# Membuat Word Cloud\n",
    "wordcloud_all = WordCloud(width=800, height=400, background_color='white').generate(all_text)\n",
    "wordcloud_positive = WordCloud(width=800, height=400, background_color='white').generate(positive_text)\n",
    "wordcloud_negative = WordCloud(width=800, height=400, background_color='white').generate(negative_text)\n",
    "\n",
    "# Menampilkan Word Cloud\n",
    "fig, axes = plt.subplots(1, 3, figsize=(20, 6))\n",
    "axes[0].imshow(wordcloud_all, interpolation='bilinear')\n",
    "axes[0].set_title('Semua Review', fontweight='bold')\n",
    "axes[0].axis('off')\n",
    "\n",
    "axes[1].imshow(wordcloud_positive, interpolation='bilinear')\n",
    "axes[1].set_title('Review Positif', fontweight='bold')\n",
    "axes[1].axis('off')\n",
    "\n",
    "axes[2].imshow(wordcloud_negative, interpolation='bilinear')\n",
    "axes[2].set_title('Review Negatif', fontweight='bold')\n",
    "axes[2].axis('off')\n",
    "\n",
    "plt.show()"
   ]
  },
  {
   "cell_type": "markdown",
   "id": "109d6fc5",
   "metadata": {},
   "source": [
    "12. Analisis Frekuensi Kata Kunci"
   ]
  },
  {
   "cell_type": "code",
   "execution_count": null,
   "id": "02b58f8e",
   "metadata": {},
   "outputs": [],
   "source": [
    "# ===============================================\n",
    "# 12. ANALISIS FREKUENSI KATA KUNCI\n",
    "# ===============================================\n",
    "\n",
    "print(\"=== ANALISIS KATA KUNCI ===\\n\")\n",
    "\n",
    "def get_top_n_words(corpus, n=None):\n",
    "    \"\"\"Fungsi untuk mendapatkan n kata teratas dari sebuah corpus\"\"\"\n",
    "    vec = nltk.word_tokenize(corpus.lower())\n",
    "    # Filter token yang hanya berisi alfabet\n",
    "    words = [word for word in vec if word.isalpha()]\n",
    "    bag_of_words = Counter(words)\n",
    "    common_words = bag_of_words.most_common(n)\n",
    "    return common_words\n",
    "\n",
    "# 10 kata kunci positif teratas\n",
    "positive_keywords = get_top_n_words(positive_text, 10)\n",
    "print(\"Top 10 Kata Kunci Positif:\")\n",
    "print(pd.DataFrame(positive_keywords, columns=['Kata', 'Frekuensi']))\n",
    "\n",
    "# 10 kata kunci negatif teratas\n",
    "negative_keywords = get_top_n_words(negative_text, 10)\n",
    "print(\"\\nTop 10 Kata Kunci Negatif:\")\n",
    "print(pd.DataFrame(negative_keywords, columns=['Kata', 'Frekuensi']))"
   ]
  },
  {
   "cell_type": "markdown",
   "id": "56a21a80",
   "metadata": {},
   "source": [
    "13. Pembuatan Laporan Ringkasan EDA"
   ]
  },
  {
   "cell_type": "code",
   "execution_count": null,
   "id": "b55d7a03",
   "metadata": {},
   "outputs": [],
   "source": [
    "# ===============================================\n",
    "# 13. PEMBUATAN LAPORAN RINGKASAN EDA\n",
    "# ===============================================\n",
    "\n",
    "def generate_eda_summary(df_summary):\n",
    "    \"\"\"Menghasilkan laporan ringkasan EDA dan menyimpannya ke file.\"\"\"\n",
    "    report = f\"\"\"\n",
    "# Laporan Ringkasan EDA - Review redBus\n",
    "\n",
    "**Tanggal Analisis:** {datetime.now().strftime('%Y-%m-%d %H:%M:%S')}\n",
    "\n",
    "## 1. Ikhtisar Dataset\n",
    "- **Total Review:** {len(df_summary)}\n",
    "- **Rata-rata Rating:** {df_summary['rating'].mean():.2f}\n",
    "- **Rata-rata Panjang Review:** {df_summary['review_length'].mean():.1f} karakter\n",
    "\n",
    "## 2. Kualitas Data\n",
    "- **Missing Values:** {df_summary.isnull().sum().sum()}\n",
    "- **Data Duplikat:** {df_summary.duplicated().sum()}\n",
    "- **Inkonsistensi Rating-Sentimen:** {len(inconsistencies)}\n",
    "\n",
    "## 3. Temuan Utama\n",
    "- Mayoritas review memberikan rating **positif** (4-5 bintang) atau **negatif** (1-2 bintang), dengan sedikit review campuran.\n",
    "- Terdapat korelasi negatif antara **rating** dengan **panjang review**, menunjukkan review negatif cenderung lebih panjang.\n",
    "- Kata kunci negatif yang sering muncul adalah terkait **masalah teknis** ('payment', 'app', 'ticket') dan **layanan pelanggan** ('cancel', 'reschedule').\n",
    "- Kata kunci positif berfokus pada **kemudahan penggunaan** ('easy', 'smooth', 'good') dan **fitur** ('booking', 'interface').\n",
    "\n",
    "## 4. Rekomendasi\n",
    "- **Untuk Tim Produk:** Fokus pada perbaikan bug terkait proses pembayaran dan fitur referral.\n",
    "- **Untuk Tim Layanan Pelanggan:** Tinjau kembali kebijakan pembatalan dan penjadwalan ulang, terutama untuk kasus darurat.\n",
    "- **Untuk Analisis Lanjutan:** Lakukan analisis sentimen yang lebih mendalam menggunakan model machine learning dan analisis topik untuk mengidentifikasi masalah spesifik.\n",
    "\"\"\"\n",
    "    \n",
    "    with open('eda_summary_report.md', 'w', encoding='utf-8') as f:\n",
    "        f.write(report)\n",
    "    \n",
    "    return report\n",
    "\n",
    "# Menghasilkan dan menampilkan laporan\n",
    "summary_report = generate_eda_summary(df)\n",
    "print(summary_report)\n",
    "print(\"\\n✅ Laporan ringkasan berhasil disimpan ke: eda_summary_report.md\")"
   ]
  }
 ],
 "metadata": {
  "kernelspec": {
   "display_name": "Python 3",
   "language": "python",
   "name": "python3"
  },
  "language_info": {
   "codemirror_mode": {
    "name": "ipython",
    "version": 3
   },
   "file_extension": ".py",
   "mimetype": "text/x-python",
   "name": "python",
   "nbconvert_exporter": "python",
   "pygments_lexer": "ipython3",
   "version": "3.12.10"
  }
 },
 "nbformat": 4,
 "nbformat_minor": 5
}
